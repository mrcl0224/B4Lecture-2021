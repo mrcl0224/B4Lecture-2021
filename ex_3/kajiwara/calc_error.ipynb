{
 "cells": [
  {
   "cell_type": "code",
   "execution_count": 1,
   "id": "1de624d8-2dad-4f8a-9ce1-eaa378e88f77",
   "metadata": {},
   "outputs": [],
   "source": [
    "import numpy as np\n",
    "import pandas as pd\n",
    "import matplotlib.pyplot as plt\n",
    "from mpl_toolkits.mplot3d import Axes3D\n",
    "from sklearn.metrics import mean_absolute_error,mean_squared_error\n",
    "\n",
    "from linear_regression import LinearRegression"
   ]
  },
  {
   "cell_type": "code",
   "execution_count": 2,
   "id": "9f35334f-88dc-4f06-b22a-66da2605e880",
   "metadata": {},
   "outputs": [],
   "source": [
    "df1 = pd.read_csv('../data1.csv')\n",
    "df2 = pd.read_csv('../data2.csv')\n",
    "df3 = pd.read_csv('../data3.csv')"
   ]
  },
  {
   "cell_type": "code",
   "execution_count": 3,
   "id": "d7ebc2a2-8983-45c0-9b95-cefcd398578a",
   "metadata": {},
   "outputs": [],
   "source": [
    "# data1\n",
    "model_1 = LinearRegression(digree=1)\n",
    "X = df1['x1'].values.reshape(-1, 1)\n",
    "y = df1['x2'].values\n",
    "model_1.fit(X, y)\n",
    "reg_eq_1 = model_1.get_equation()"
   ]
  },
  {
   "cell_type": "code",
   "execution_count": 4,
   "id": "aa1fa886-b9fd-4d3f-9a4f-2f87c34f00df",
   "metadata": {},
   "outputs": [],
   "source": [
    "pred_X = model_1.predict(X)"
   ]
  },
  {
   "cell_type": "code",
   "execution_count": 5,
   "id": "63225d9c-6654-4e9d-bdaf-86e6e612204d",
   "metadata": {},
   "outputs": [
    {
     "name": "stdout",
     "output_type": "stream",
     "text": [
      "mae: 1.5459090193014813\n",
      "mse: 3.613824228387513\n"
     ]
    }
   ],
   "source": [
    "mae = mean_absolute_error(y, pred_X)\n",
    "mse = mean_squared_error(y, pred_X)\n",
    "print(\"mae:\", mae)\n",
    "print(\"mse:\", mse)"
   ]
  },
  {
   "cell_type": "code",
   "execution_count": 6,
   "id": "2e73c9ba-bf83-4a50-9225-dcd08027718b",
   "metadata": {},
   "outputs": [],
   "source": [
    "# data2\n",
    "model_2 = LinearRegression(digree=3)\n",
    "X = df2['x1'].values.reshape(-1, 1)\n",
    "y = df2['x2'].values\n",
    "model_2.fit(X, y)\n",
    "reg_eq_2 = model_2.get_equation()"
   ]
  },
  {
   "cell_type": "code",
   "execution_count": 7,
   "id": "8ccc0a71-c96b-4150-ae5e-d6f04fd10cc8",
   "metadata": {},
   "outputs": [],
   "source": [
    "pred_X = model_2.predict(X)"
   ]
  },
  {
   "cell_type": "code",
   "execution_count": 8,
   "id": "70541677-eb93-40c2-9559-c210673383e6",
   "metadata": {},
   "outputs": [
    {
     "name": "stdout",
     "output_type": "stream",
     "text": [
      "mae: 0.2410776865296682\n",
      "mse: 0.0934767354073853\n"
     ]
    }
   ],
   "source": [
    "mae = mean_absolute_error(y, pred_X)\n",
    "mse = mean_squared_error(y, pred_X)\n",
    "print(\"mae:\", mae)\n",
    "print(\"mse:\", mse)"
   ]
  },
  {
   "cell_type": "code",
   "execution_count": 9,
   "id": "8bd0e1ae-da66-441a-9fea-cfbebc192254",
   "metadata": {},
   "outputs": [],
   "source": [
    "# data3\n",
    "model_3 = LinearRegression(digree=2)\n",
    "X1 = df3['x1'].values\n",
    "X2 = df3['x2'].values\n",
    "y = df3['x3'].values\n",
    "X = np.array([X1, X2]).T\n",
    "model_3.fit(X, y)\n",
    "reg_eq_3 = model_3.get_equation()"
   ]
  },
  {
   "cell_type": "code",
   "execution_count": 10,
   "id": "e1c605ca-69a3-4c83-92d4-b365be9be570",
   "metadata": {},
   "outputs": [],
   "source": [
    "pred_X = model_3.predict(X)"
   ]
  },
  {
   "cell_type": "code",
   "execution_count": 11,
   "id": "d5344f6f-800d-4057-9bb8-8275cc64d508",
   "metadata": {},
   "outputs": [
    {
     "name": "stdout",
     "output_type": "stream",
     "text": [
      "mae: 1.8133661448232488\n",
      "mse: 5.052955063445911\n"
     ]
    }
   ],
   "source": [
    "mae = mean_absolute_error(y, pred_X)\n",
    "mse = mean_squared_error(y, pred_X)\n",
    "print(\"mae:\", mae)\n",
    "print(\"mse:\", mse)"
   ]
  }
 ],
 "metadata": {
  "kernelspec": {
   "display_name": "rinko_env",
   "language": "python",
   "name": "rinko_env"
  },
  "language_info": {
   "codemirror_mode": {
    "name": "ipython",
    "version": 3
   },
   "file_extension": ".py",
   "mimetype": "text/x-python",
   "name": "python",
   "nbconvert_exporter": "python",
   "pygments_lexer": "ipython3",
   "version": "3.8.8"
  }
 },
 "nbformat": 4,
 "nbformat_minor": 5
}
