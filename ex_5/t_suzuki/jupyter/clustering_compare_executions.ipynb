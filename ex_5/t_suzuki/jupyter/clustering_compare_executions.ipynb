{
 "cells": [
  {
   "cell_type": "code",
   "execution_count": 1,
   "metadata": {},
   "outputs": [],
   "source": [
    "import numpy as np\n",
    "import pandas as pd\n",
    "import matplotlib.pyplot as plt\n",
    "from mpl_toolkits.mplot3d.axes3d import Axes3D"
   ]
  },
  {
   "cell_type": "code",
   "execution_count": 2,
   "metadata": {},
   "outputs": [],
   "source": [
    "data1 = pd.read_csv('./data1.csv').to_numpy()\n",
    "data2 = pd.read_csv('./data2.csv').to_numpy()\n",
    "data3 = pd.read_csv('./data3.csv').to_numpy()"
   ]
  },
  {
   "cell_type": "code",
   "execution_count": 3,
   "metadata": {},
   "outputs": [],
   "source": [
    "def center(S):\n",
    "    res = []\n",
    "    \n",
    "    if type(S) is list:\n",
    "        for s in S:\n",
    "            c = np.array(s).sum(axis=0) / len(s)\n",
    "            res.append(c)\n",
    "    \n",
    "    else:\n",
    "        c = S.sum(axis=0) / len(S)\n",
    "        res.append(c)\n",
    "        \n",
    "    return np.array(res)"
   ]
  },
  {
   "cell_type": "code",
   "execution_count": 6,
   "metadata": {},
   "outputs": [],
   "source": [
    "def k_means(data, k, eps, A):\n",
    "    n = len(data)\n",
    "    D0 = np.inf\n",
    "    if data.shape[1] == 2:\n",
    "        tmp = np.empty((0, 2))\n",
    "    else:\n",
    "        tmp = np.empty((0, 3))\n",
    "    cnt = 1\n",
    "    \n",
    "    while 1:\n",
    "        # print(f'Loop num : {cnt}')\n",
    "        # print(f'Code book : {A}')\n",
    "        D = 0\n",
    "        S = [tmp for _ in range(k)]\n",
    "        \n",
    "        dist_list = np.sqrt(((data[:, :, np.newaxis] - A.T[np.newaxis, :, :])**2).sum(axis=1))\n",
    "        near_point = dist_list.argmin(axis=1)\n",
    "        for idx, x in zip(near_point, data):\n",
    "            S[idx] = np.r_[S[idx], [x]]\n",
    "        \n",
    "        for i in range(dist_list.shape[1]):\n",
    "            dist_list.T[i][near_point != i] = 0\n",
    "        D = dist_list.sum() / n\n",
    "        \n",
    "        if (D0 - D) / D < eps:\n",
    "            # print(f'Finish D : {D}')\n",
    "            break\n",
    "        \n",
    "        # print(f'Again D : {D}')\n",
    "        # print('====================================================================')\n",
    "        D0 = D\n",
    "        A = center(S)\n",
    "        cnt += 1\n",
    "        \n",
    "    # print(cnt)\n",
    "\n",
    "    return A, S, cnt"
   ]
  },
  {
   "cell_type": "code",
   "execution_count": 75,
   "metadata": {},
   "outputs": [],
   "source": [
    "def k_means_re(data, k, eps, A, D0=np.inf):\n",
    "    n = len(data)\n",
    "    \n",
    "    if data.shape[1] == 2:\n",
    "        tmp = np.empty((0, 2))\n",
    "    else:\n",
    "        tmp = np.empty((0, 3))    \n",
    "    S = [tmp for _ in range(k)]\n",
    "    \n",
    "    dist_list = np.sqrt(((data[:, :, np.newaxis] - A.T[np.newaxis, :, :])**2).sum(axis=1))\n",
    "    near_point = dist_list.argmin(axis=1)\n",
    "    for idx, x in zip(near_point, data):\n",
    "        S[idx] = np.r_[S[idx], [x]]\n",
    "        \n",
    "    for i in range(dist_list.shape[1]):\n",
    "        dist_list.T[i][near_point != i] = 0\n",
    "    D = dist_list.sum() / n\n",
    "    \n",
    "    if (D0 - D) / D < eps:\n",
    "        return A, S\n",
    "    else:\n",
    "        return k_means_re(data, k, eps, center(S), D)"
   ]
  },
  {
   "cell_type": "code",
   "execution_count": 7,
   "metadata": {},
   "outputs": [],
   "source": [
    "def lbg(data, k, eps, A, M=1):\n",
    "    delta = np.array([1e-5 for _ in range(data.shape[1])])\n",
    "    \n",
    "    if data.shape[1] == 2:\n",
    "        tmp = np.empty((0, 2))\n",
    "    else:\n",
    "        tmp = np.empty((0, 3))\n",
    "    for y in A:\n",
    "        tmp = np.r_[tmp, [y + delta]]\n",
    "        tmp = np.r_[tmp, [y - delta]]\n",
    "    A = tmp\n",
    "    \n",
    "    A, S, cnt = k_means(data, 2*M, 0.001, A)\n",
    "    if A.shape[0] == k:\n",
    "        return A\n",
    "    else:\n",
    "        M = 2*M\n",
    "        return lbg(data, k, eps, A, M)"
   ]
  },
  {
   "cell_type": "code",
   "execution_count": 8,
   "metadata": {},
   "outputs": [],
   "source": [
    "def k_means_pp(data, k):\n",
    "    n = len(data)\n",
    "    first_idx = np.random.choice(n, 1, replace=False)\n",
    "    A = data[first_idx]\n",
    "    P = ((A - data) ** 2).sum(axis=1) / ((A - data) ** 2).sum()\n",
    "    \n",
    "    next_idx = np.random.choice(n, 1, replace=False, p=P)\n",
    "    A = np.r_[A, data[next_idx]]\n",
    "    \n",
    "    if k > 2:\n",
    "        for _ in range(k-2):\n",
    "            dist_list = ((data[:, :, np.newaxis] - A.T[np.newaxis, :, :])**2).sum(axis=1)\n",
    "            near_point = dist_list.argmin(axis=1)\n",
    "            for i in range(dist_list.shape[1]):\n",
    "                dist_list.T[i][near_point != i] = 0\n",
    "                \n",
    "            P = dist_list.sum(axis=1) / dist_list.sum()\n",
    "            next_idx = np.random.choice(n, 1, replace=False, p=P)\n",
    "            A = np.r_[A, data[next_idx]]\n",
    "            \n",
    "    return A"
   ]
  },
  {
   "cell_type": "code",
   "execution_count": 9,
   "metadata": {},
   "outputs": [],
   "source": [
    "def minimax(data, k):\n",
    "    n = len(data)\n",
    "    first_idx = np.random.choice(n, 1, replace=False)\n",
    "    A = data[first_idx]\n",
    "    next_idx = ((A - data) ** 2).sum(axis=1).argmax()\n",
    "    A = np.r_[A, [data[next_idx]]]\n",
    "    \n",
    "    if k > 2:\n",
    "        for _ in range(k-2):\n",
    "            dist_list = ((data[:, :, np.newaxis] - A.T[np.newaxis, :, :])**2).sum(axis=1)\n",
    "            near_point = dist_list.argmin(axis=1)\n",
    "            for i in range(dist_list.shape[1]):\n",
    "                dist_list.T[i][near_point != i] = 0\n",
    "            \n",
    "            next_idx = dist_list.sum(axis=1).argmax()\n",
    "            A = np.r_[A, [data[next_idx]]]\n",
    "            \n",
    "    return A"
   ]
  },
  {
   "cell_type": "code",
   "execution_count": 10,
   "metadata": {},
   "outputs": [],
   "source": [
    "def random_choice(data, k):\n",
    "    n = len(data)\n",
    "    first_idx = np.random.choice(n, k, replace=False)\n",
    "    A = data[first_idx]\n",
    "    return A"
   ]
  },
  {
   "cell_type": "code",
   "execution_count": 41,
   "metadata": {},
   "outputs": [],
   "source": [
    "cnt_all = [[] for _ in range(4)]\n",
    "for _ in range(1000):\n",
    "    A_minimax = minimax(data1, 2)\n",
    "    A_random = random_choice(data1, 2)\n",
    "    A_lbg = lbg(data1, 2, 0.01, center(data1))\n",
    "    A_pp = k_means_pp(data1, 2)\n",
    "    \n",
    "    A_m, S_m, m = k_means(data1, 2, 0.001, A_minimax)\n",
    "    A_r, S_r, r = k_means(data1, 2, 0.001, A_random)\n",
    "    A_l, S_l, l = k_means(data1, 2, 0.001, A_lbg)\n",
    "    A_p, S_p, p = k_means(data1, 2, 0.001, A_pp)\n",
    "    \n",
    "    cnt_all[0].append(r)\n",
    "    cnt_all[1].append(p)\n",
    "    cnt_all[2].append(l)\n",
    "    cnt_all[3].append(m)"
   ]
  },
  {
   "cell_type": "code",
   "execution_count": 42,
   "metadata": {},
   "outputs": [
    {
     "name": "stderr",
     "output_type": "stream",
     "text": [
      "<ipython-input-42-e39149831f06>:4: UserWarning: FixedFormatter should only be used together with FixedLocator\n",
      "  ax.set_xticklabels(['Random', 'k-means++', 'Minimax'], fontsize=18)\n",
      "<ipython-input-42-e39149831f06>:5: MatplotlibDeprecationWarning: Setting whis to 'range' is deprecated since 3.2 and support for it will be removed two minor releases later; set it to [0, 100] to achieve the same effect.\n",
      "  ax.boxplot(box_data, whis=\"range\")\n"
     ]
    },
    {
     "data": {
      "text/plain": [
       "{'whiskers': [<matplotlib.lines.Line2D at 0x7ff87218f9d0>,\n",
       "  <matplotlib.lines.Line2D at 0x7ff872255550>,\n",
       "  <matplotlib.lines.Line2D at 0x7ff8902b5e20>,\n",
       "  <matplotlib.lines.Line2D at 0x7ff872195070>,\n",
       "  <matplotlib.lines.Line2D at 0x7ff8722aba90>,\n",
       "  <matplotlib.lines.Line2D at 0x7ff8722ab490>],\n",
       " 'caps': [<matplotlib.lines.Line2D at 0x7ff872255bb0>,\n",
       "  <matplotlib.lines.Line2D at 0x7ff872255190>,\n",
       "  <matplotlib.lines.Line2D at 0x7ff8722a0730>,\n",
       "  <matplotlib.lines.Line2D at 0x7ff8722a0370>,\n",
       "  <matplotlib.lines.Line2D at 0x7ff8722ab340>,\n",
       "  <matplotlib.lines.Line2D at 0x7ff8902e0880>],\n",
       " 'boxes': [<matplotlib.lines.Line2D at 0x7ff8902ea2e0>,\n",
       "  <matplotlib.lines.Line2D at 0x7ff8902b5910>,\n",
       "  <matplotlib.lines.Line2D at 0x7ff8722ab040>],\n",
       " 'medians': [<matplotlib.lines.Line2D at 0x7ff8902ea790>,\n",
       "  <matplotlib.lines.Line2D at 0x7ff8722a05b0>,\n",
       "  <matplotlib.lines.Line2D at 0x7ff8902e0370>],\n",
       " 'fliers': [<matplotlib.lines.Line2D at 0x7ff87224c250>,\n",
       "  <matplotlib.lines.Line2D at 0x7ff8722a0ee0>,\n",
       "  <matplotlib.lines.Line2D at 0x7ff8902e0a90>],\n",
       " 'means': []}"
      ]
     },
     "execution_count": 42,
     "metadata": {},
     "output_type": "execute_result"
    },
    {
     "data": {
      "image/png": "[encoded data removed]",
      "text/plain": [
       "<Figure size 432x288 with 1 Axes>"
      ]
     },
     "metadata": {
      "needs_background": "light"
     },
     "output_type": "display_data"
    }
   ],
   "source": [
    "box_data = (cnt_all[0], cnt_all[1], cnt_all[3])\n",
    "fig, ax = plt.subplots()\n",
    "ax.set_title('k = 2', fontsize=20)\n",
    "ax.set_xticklabels(['Random', 'k-means++', 'Minimax'], fontsize=18)\n",
    "ax.boxplot(box_data, whis=\"range\")"
   ]
  },
  {
   "cell_type": "code",
   "execution_count": null,
   "metadata": {},
   "outputs": [],
   "source": []
  }
 ],
 "metadata": {
  "kernelspec": {
   "display_name": "Python 3",
   "language": "python",
   "name": "python3"
  },
  "language_info": {
   "codemirror_mode": {
    "name": "ipython",
    "version": 3
   },
   "file_extension": ".py",
   "mimetype": "text/x-python",
   "name": "python",
   "nbconvert_exporter": "python",
   "pygments_lexer": "ipython3",
   "version": "3.8.5"
  }
 },
 "nbformat": 4,
 "nbformat_minor": 4
}
