{
 "cells": [
  {
   "cell_type": "code",
   "execution_count": 11,
   "id": "e22384b3-4f0f-47a2-8b54-4c64fe92cf0e",
   "metadata": {},
   "outputs": [],
   "source": [
    "import numpy as np\n",
    "from scipy.fftpack import dct\n",
    "import matplotlib.pyplot as plt\n",
    "import librosa\n",
    "\n",
    "import stft"
   ]
  },
  {
   "cell_type": "code",
   "execution_count": 2,
   "id": "ef77d487-b7f3-4d5f-9ae2-c2d0c1bb4436",
   "metadata": {},
   "outputs": [],
   "source": [
    "wave_data, sr = librosa.load('./audio/sample.wav')"
   ]
  },
  {
   "cell_type": "code",
   "execution_count": 3,
   "id": "2eeb1415-9c8b-439b-97e2-e4ab7e4f6c92",
   "metadata": {},
   "outputs": [
    {
     "data": {
      "text/plain": [
       "[<matplotlib.lines.Line2D at 0x116003070>]"
      ]
     },
     "execution_count": 3,
     "metadata": {},
     "output_type": "execute_result"
    },
    {
     "data": {
      "image/png": "[encoded data removed]",
      "text/plain": [
       "<Figure size 432x288 with 1 Axes>"
      ]
     },
     "metadata": {
      "needs_background": "light"
     },
     "output_type": "display_data"
    }
   ],
   "source": [
    "plt.plot(wave_data)"
   ]
  },
  {
   "cell_type": "code",
   "execution_count": 4,
   "id": "d7aabc04-ef42-4f1d-85be-179c49f23082",
   "metadata": {},
   "outputs": [],
   "source": [
    "# t = np.arange(0, len(wave_data) / sr, 1/sr)\n",
    "\n",
    "# # 音声波形の中心部分（定常部）を切り出す\n",
    "# center = len(wave_data)//2 #　中心のサンプル番号\n",
    "# cuttime = 0.04 # 秒\n",
    "# x = wave_data[int(center - cuttime / 2 * sr):int(center + cuttime / 2 * sr)]\n",
    "# time = t[int(center - cuttime/2*sr): int(center + cuttime/2*sr)]\n",
    "\n",
    "# plt.plot(time * 1000, x)\n",
    "# plt.xlabel(\"time [ms]\")\n",
    "# plt.ylabel(\"amplitude\")\n",
    "# plt.show()"
   ]
  },
  {
   "cell_type": "code",
   "execution_count": 5,
   "id": "04dbc41d-e019-46e0-add7-f90a4dba6d00",
   "metadata": {},
   "outputs": [],
   "source": [
    "x = wave_data.copy()"
   ]
  },
  {
   "cell_type": "code",
   "execution_count": 7,
   "id": "efaa8866-fed6-4e5a-8d4b-3ea650e4eeea",
   "metadata": {},
   "outputs": [],
   "source": [
    "N = 2024\n",
    "# N = len(x)\n",
    "# hamming = np.hamming(len(x))\n",
    "# x = x * hamming"
   ]
  },
  {
   "cell_type": "code",
   "execution_count": 19,
   "id": "b6e2e955-2af5-4c97-8b83-68d379c92b84",
   "metadata": {},
   "outputs": [],
   "source": [
    "# spec = np.abs(np.fft.fft(x, N))[:N//2]\n",
    "spec = stft.faster_stft(x, N, 0.5)[:N//2]\n",
    "# fscale = np.fft.fftfreq(N, d=1./sr)[:N//2]"
   ]
  },
  {
   "cell_type": "code",
   "execution_count": 20,
   "id": "e1faaf8b-0ab2-4f6c-805c-f05ba2408fae",
   "metadata": {},
   "outputs": [],
   "source": [
    "# plt.plot(fscale, spec)"
   ]
  },
  {
   "cell_type": "code",
   "execution_count": 21,
   "id": "13992936-2911-4ddb-8792-69a7400ceb4b",
   "metadata": {},
   "outputs": [],
   "source": [
    "def hz2mel(f, f0=1000):\n",
    "    m0 = 1000 / np.log(1000/f0 + 1)\n",
    "    return m0*np.log(f/f0 + 1)\n",
    "\n",
    "def mel2hz(m, f0=1000):\n",
    "    m0 = 1000 / np.log(1000/f0 + 1)\n",
    "    return f0*(np.exp(m/m0) - 1)"
   ]
  },
  {
   "cell_type": "code",
   "execution_count": 22,
   "id": "14cdfcc6-2cb0-4eed-bb16-612b66c32834",
   "metadata": {},
   "outputs": [],
   "source": [
    "def mel_filter_bank(sr, data_size, bank_size):\n",
    "    mel_max = hz2mel(sr/2)\n",
    "    \n",
    "    n_max = data_size//2\n",
    "    \n",
    "    df = sr/data_size\n",
    "    \n",
    "    dmel = mel_max/(bank_size+1)\n",
    "    mel_centers = np.arange(1, bank_size+1) * dmel\n",
    "    f_centers = mel2hz(mel_centers)\n",
    "    \n",
    "    idx_centers = np.round(f_centers / df)\n",
    "    start_idx = np.hstack(([0], idx_centers[0:bank_size - 1]))\n",
    "    end_idx = np.hstack((idx_centers[1:bank_size], [n_max]))\n",
    "    \n",
    "    filter_bank = np.zeros((bank_size, n_max))\n",
    "    for c in range(0, bank_size):\n",
    "        inc = 1./(idx_centers[c]-start_idx[c])\n",
    "        for i in np.arange(start_idx[c], idx_centers[c]):\n",
    "            filter_bank[c, int(i)] = (i-start_idx[c])*inc\n",
    "            \n",
    "        dec = 1./(end_idx[c] - idx_centers[c])\n",
    "        for i in np.arange(idx_centers[c], end_idx[c]):\n",
    "            filter_bank[c, int(i)] = 1.0 - ((i - idx_centers[c]) * dec)\n",
    "\n",
    "    return filter_bank, f_centers"
   ]
  },
  {
   "cell_type": "code",
   "execution_count": 23,
   "id": "dfe92971-61cc-411b-9260-d7674b805a06",
   "metadata": {},
   "outputs": [],
   "source": [
    "bank_size = 20\n",
    "df = sr/N\n",
    "filter_bank, f_centers = mel_filter_bank(sr, N, bank_size)"
   ]
  },
  {
   "cell_type": "code",
   "execution_count": 24,
   "id": "d4a82b5a-bb3e-4b12-9f25-aa4f9d99a441",
   "metadata": {},
   "outputs": [],
   "source": [
    "# for c in np.arange(0, bank_size):\n",
    "#     plt.plot(np.arange(0, N/2)*df, filter_bank[c])"
   ]
  },
  {
   "cell_type": "code",
   "execution_count": 27,
   "id": "eea4a1a0-d8c7-4ec4-8f78-765b1c0c5747",
   "metadata": {},
   "outputs": [],
   "source": [
    "mel_spec = np.dot(filter_bank, spec)"
   ]
  },
  {
   "cell_type": "code",
   "execution_count": 28,
   "id": "128ea4fa-da94-4154-b211-f00a143c1fe0",
   "metadata": {},
   "outputs": [],
   "source": [
    "# plt.figure(figsize=(13, 5))\n",
    "# plt.plot(fscale, 10* np.log10(spec), label='Original Spectrum')\n",
    "# plt.plot(f_centers, 10 * np.log10(mel_spec), \"o-\", label='Mel Spectrum')"
   ]
  },
  {
   "cell_type": "code",
   "execution_count": 33,
   "id": "658f7dee-0f87-49c6-8d28-f6bcfa438bb0",
   "metadata": {},
   "outputs": [],
   "source": [
    "mel_spec_db = librosa.amplitude_to_db(mel_spec)\n",
    "ceps = dct(mel_spec_db, axis=0)\n",
    "mfcc = ceps[:13]"
   ]
  },
  {
   "cell_type": "code",
   "execution_count": 34,
   "id": "38c57770-e967-40b0-83ae-8116c4513a2e",
   "metadata": {},
   "outputs": [
    {
     "name": "stdout",
     "output_type": "stream",
     "text": [
      "[[-1.28877350e+03 -1.72569743e+03 -1.85987939e+03 ... -2.00206185e+03\n",
      "  -1.90854564e+03 -1.25214214e+03]\n",
      " [-2.92773835e+01  7.53543986e+01  4.70758894e+01 ...  8.63724223e+01\n",
      "   4.96365206e+01  5.73324418e+01]\n",
      " [ 8.83072761e+01  5.59811664e+01  7.83460553e+01 ... -1.10812094e-01\n",
      "   8.21240889e+00  1.09630750e+02]\n",
      " ...\n",
      " [-2.37910184e+01  1.70045312e+00 -5.97565449e+01 ...  2.54957533e+01\n",
      "   1.15317750e+00 -1.80331394e+01]\n",
      " [-2.77625329e+01  2.39684640e+00 -3.89702632e+01 ...  3.74894227e+01\n",
      "  -1.75572161e+01 -1.66051095e+01]\n",
      " [-7.00056117e-01 -3.13585987e+01 -6.60070490e+01 ... -1.37669411e+01\n",
      "  -5.76606880e+01  2.94252539e+01]]\n"
     ]
    }
   ],
   "source": [
    "print(mfcc)"
   ]
  },
  {
   "cell_type": "code",
   "execution_count": 36,
   "id": "58d9bec7-d2cf-4f95-859e-3fc90f9a7761",
   "metadata": {},
   "outputs": [
    {
     "data": {
      "text/plain": [
       "<matplotlib.colorbar.Colorbar at 0x1162d22b0>"
      ]
     },
     "execution_count": 36,
     "metadata": {},
     "output_type": "execute_result"
    },
    {
     "data": {
      "image/png": "[encoded data removed]",
      "text/plain": [
       "<Figure size 432x288 with 2 Axes>"
      ]
     },
     "metadata": {
      "needs_background": "light"
     },
     "output_type": "display_data"
    }
   ],
   "source": [
    "plt.imshow(mfcc, cmap='rainbow', aspect='auto', origin='lower')\n",
    "plt.colorbar()"
   ]
  },
  {
   "cell_type": "code",
   "execution_count": 68,
   "id": "c0ef0e25-b600-4505-9882-8260322bdc2c",
   "metadata": {},
   "outputs": [],
   "source": [
    "def calc_delta(X, width=2):\n",
    "#     X = np.pad(X, ((0,0), (width+1, width+1)), 'edge')\n",
    "    \n",
    "    k = np.arange(-width, width+1)\n",
    "    _sum = np.sum(k**2)\n",
    "    \n",
    "    comp = []\n",
    "    for i in range(width, X.shape[1]+width):\n",
    "        try:\n",
    "            comp.append(np.sum(k*X[:, i-width:i+width+1], axis=1))\n",
    "        except ValueError:\n",
    "            break\n",
    "    comp = np.array(comp).T\n",
    "    \n",
    "    delta = comp/_sum\n",
    "    \n",
    "    return delta"
   ]
  },
  {
   "cell_type": "code",
   "execution_count": 69,
   "id": "e1d27c48-724d-479e-a522-c8c2ee95d2f7",
   "metadata": {},
   "outputs": [],
   "source": [
    "dmfcc = calc_delta(mfcc)"
   ]
  },
  {
   "cell_type": "code",
   "execution_count": 71,
   "id": "edb6f46a-7210-48e7-a792-fb35bb8866c0",
   "metadata": {},
   "outputs": [
    {
     "data": {
      "text/plain": [
       "<matplotlib.colorbar.Colorbar at 0x11639f7f0>"
      ]
     },
     "execution_count": 71,
     "metadata": {},
     "output_type": "execute_result"
    },
    {
     "data": {
      "image/png": "[encoded data removed]",
      "text/plain": [
       "<Figure size 432x288 with 2 Axes>"
      ]
     },
     "metadata": {
      "needs_background": "light"
     },
     "output_type": "display_data"
    }
   ],
   "source": [
    "plt.imshow(dmfcc, cmap='rainbow', aspect='auto', origin='lower')\n",
    "plt.colorbar()"
   ]
  },
  {
   "cell_type": "code",
   "execution_count": 72,
   "id": "a08034a3-3861-4e0c-9dc5-7a33e3c337e4",
   "metadata": {},
   "outputs": [],
   "source": [
    "ddmfcc = calc_delta(dmfcc)"
   ]
  },
  {
   "cell_type": "code",
   "execution_count": 73,
   "id": "937d7359-8942-4900-9d5b-b7ddf691e335",
   "metadata": {},
   "outputs": [
    {
     "data": {
      "text/plain": [
       "<matplotlib.colorbar.Colorbar at 0x116443a90>"
      ]
     },
     "execution_count": 73,
     "metadata": {},
     "output_type": "execute_result"
    },
    {
     "data": {
      "image/png": "[encoded data removed]",
      "text/plain": [
       "<Figure size 432x288 with 2 Axes>"
      ]
     },
     "metadata": {
      "needs_background": "light"
     },
     "output_type": "display_data"
    }
   ],
   "source": [
    "plt.imshow(ddmfcc, cmap='rainbow', aspect='auto', origin='lower')\n",
    "plt.colorbar()"
   ]
  },
  {
   "cell_type": "code",
   "execution_count": null,
   "id": "0b4de304-894f-442a-a1cd-1337601bc347",
   "metadata": {},
   "outputs": [],
   "source": []
  }
 ],
 "metadata": {
  "kernelspec": {
   "display_name": "rinko_env",
   "language": "python",
   "name": "rinko_env"
  },
  "language_info": {
   "codemirror_mode": {
    "name": "ipython",
    "version": 3
   },
   "file_extension": ".py",
   "mimetype": "text/x-python",
   "name": "python",
   "nbconvert_exporter": "python",
   "pygments_lexer": "ipython3",
   "version": "3.8.8"
  }
 },
 "nbformat": 4,
 "nbformat_minor": 5
}
