{
 "cells": [
  {
   "cell_type": "code",
   "execution_count": 1,
   "id": "64bf0d18-ce9d-4507-8262-a26aea0c59ca",
   "metadata": {},
   "outputs": [],
   "source": [
    "import time\n",
    "\n",
    "import scipy as sp\n",
    "import numpy as np\n",
    "import librosa\n",
    "import matplotlib.pyplot as plt\n",
    "from datetime import datetime\n",
    "\n",
    "from modules.lpc import toeplitz_solver\n",
    "from modules.autocorrelation import autocorrelation"
   ]
  },
  {
   "cell_type": "code",
   "execution_count": 2,
   "id": "88c4a3cc-682b-4e16-83eb-644c24a1cb11",
   "metadata": {},
   "outputs": [],
   "source": [
    "TIME_TEMPLATE = '%Y%m%d%H%M%S'"
   ]
  },
  {
   "cell_type": "code",
   "execution_count": 3,
   "id": "ec86047e-f060-43d5-b798-50bd9df7cfdb",
   "metadata": {},
   "outputs": [],
   "source": [
    "def calc_process_time(args, func):\n",
    "    start = time.perf_counter()\n",
    "    func(**args)\n",
    "    end = time.perf_counter()\n",
    "\n",
    "    return end - start"
   ]
  },
  {
   "cell_type": "code",
   "execution_count": 9,
   "id": "754a75b0-c6e8-4fed-b99a-09913fc9ef87",
   "metadata": {},
   "outputs": [],
   "source": [
    "wave_data, sr = librosa.load('./audio/aiueo.wav')\n",
    "ac = autocorrelation(wave_data)"
   ]
  },
  {
   "cell_type": "code",
   "execution_count": 10,
   "id": "7c08a3ea-860e-4df6-ba30-2f46fbdfce89",
   "metadata": {},
   "outputs": [],
   "source": [
    "# a, e = toeplitz_solver(ac, dim)\n",
    "sp_res = calc_process_time(\n",
    "    {'ac': ac, 'dim': 100}, toeplitz_solver)"
   ]
  },
  {
   "cell_type": "code",
   "execution_count": 11,
   "id": "d86d4ef1-d32d-4b03-a6f4-5b5d0c3ad058",
   "metadata": {},
   "outputs": [
    {
     "data": {
      "text/plain": [
       "0.003165391999999656"
      ]
     },
     "execution_count": 11,
     "metadata": {},
     "output_type": "execute_result"
    }
   ],
   "source": [
    "sp_res"
   ]
  },
  {
   "cell_type": "code",
   "execution_count": 16,
   "id": "a9be2c5e-1dc5-4d01-99d0-03ce766c25c1",
   "metadata": {},
   "outputs": [],
   "source": [
    "# _ac = ac[:100]\n",
    "sp_res = calc_process_time(\n",
    "    {'c_or_cr': (ac[:100], ac[:100]), 'b': ac[1:101]}, sp.linalg.solve_toeplitz)"
   ]
  },
  {
   "cell_type": "code",
   "execution_count": 17,
   "id": "625be819-f2e6-469d-a3b9-09d42e0c2cfb",
   "metadata": {},
   "outputs": [
    {
     "data": {
      "text/plain": [
       "0.02775825500003748"
      ]
     },
     "execution_count": 17,
     "metadata": {},
     "output_type": "execute_result"
    }
   ],
   "source": [
    "sp_res"
   ]
  },
  {
   "cell_type": "code",
   "execution_count": null,
   "id": "02b164c5-6161-484d-a375-93239b5b3dc2",
   "metadata": {},
   "outputs": [
    {
     "name": "stdout",
     "output_type": "stream",
     "text": [
      "22050\n",
      "220500\n"
     ]
    }
   ],
   "source": [
    "length = [\n",
    "    22050*1,\n",
    "    22050*10,\n",
    "    22050*50,\n",
    "    22050*100,\n",
    "#     22050*150,\n",
    "#     22050*500,\n",
    "#     22050*1000,\n",
    "#     22050*1500,\n",
    "]\n",
    "result = []\n",
    "\n",
    "for l in length:\n",
    "    print(l)\n",
    "    fake_data = 2 * np.random.rand(l) - 1\n",
    "    ac = autocorrelation(fake_data)\n",
    "\n",
    "    res = {\n",
    "        'scipy_solver': [],\n",
    "        'mine_solver': []\n",
    "    }\n",
    "\n",
    "    for i in range(10):\n",
    "        sp_res = calc_process_time(\n",
    "            {'c_or_cr': (ac[:-1], ac[:-1]), 'b': ac[1:]},\n",
    "            sp.linalg.solve_toeplitz\n",
    "        )\n",
    "        res['scipy_solver'].append(sp_res)\n",
    "        \n",
    "        mine_res = calc_process_time({'ac': ac, 'dim': len(ac)-1}, toeplitz_solver)\n",
    "        res['mine_solver'].append(mine_res)\n",
    "\n",
    "\n",
    "    result.append(res)"
   ]
  },
  {
   "cell_type": "code",
   "execution_count": null,
   "id": "9ad2ad3d-b5ba-422f-81cf-bd6e81239947",
   "metadata": {},
   "outputs": [],
   "source": [
    "aves = {\n",
    "    'scipy_solver': [],\n",
    "    'mine_solver': []\n",
    "}\n",
    "for i, res in enumerate(result):\n",
    "    print('-'*10)\n",
    "    for k, v in res.items():\n",
    "        print(k, sum(v)/len(v))\n",
    "        aves[k].append(sum(v)/len(v))\n",
    "print('-'*10)"
   ]
  },
  {
   "cell_type": "code",
   "execution_count": null,
   "id": "0283c8eb-1625-4334-a8fa-fa22212155c0",
   "metadata": {},
   "outputs": [],
   "source": [
    "p_scipy = plt.plot(length, aves['scipy_solver'], marker=\"o\", label='scipy')\n",
    "p_mine = plt.plot(length, aves['mine_solver'], marker=\"o\", label='mine')\n",
    "plt.legend(loc=2)\n",
    "timestamp = datetime.now().strftime(TIME_TEMPLATE)\n",
    "plt.savefig('bench-res-{}.png'.format(timestamp))"
   ]
  },
  {
   "cell_type": "code",
   "execution_count": null,
   "id": "71f295a3-6a02-4145-ab0e-251e0015a072",
   "metadata": {},
   "outputs": [],
   "source": []
  }
 ],
 "metadata": {
  "kernelspec": {
   "display_name": "rinko_env",
   "language": "python",
   "name": "rinko_env"
  },
  "language_info": {
   "codemirror_mode": {
    "name": "ipython",
    "version": 3
   },
   "file_extension": ".py",
   "mimetype": "text/x-python",
   "name": "python",
   "nbconvert_exporter": "python",
   "pygments_lexer": "ipython3",
   "version": "3.8.8"
  }
 },
 "nbformat": 4,
 "nbformat_minor": 5
}
